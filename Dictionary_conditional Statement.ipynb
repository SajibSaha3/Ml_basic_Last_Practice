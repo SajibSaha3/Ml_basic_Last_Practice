{
 "cells": [
  {
   "cell_type": "markdown",
   "id": "a85b4f94",
   "metadata": {},
   "source": [
    "# Dictionary"
   ]
  },
  {
   "cell_type": "code",
   "execution_count": 2,
   "id": "7a5592d7",
   "metadata": {},
   "outputs": [
    {
     "name": "stdout",
     "output_type": "stream",
     "text": [
      "<class 'dict'>\n"
     ]
    }
   ],
   "source": [
    "d = {} # syntax of dictionary\n",
    "print(type(d))"
   ]
  },
  {
   "cell_type": "code",
   "execution_count": 3,
   "id": "6743cce5",
   "metadata": {},
   "outputs": [
    {
     "name": "stdout",
     "output_type": "stream",
     "text": [
      "<class 'set'>\n"
     ]
    }
   ],
   "source": [
    "d = {5}\n",
    "print(type(d))"
   ]
  },
  {
   "cell_type": "code",
   "execution_count": 4,
   "id": "666cd0cf",
   "metadata": {},
   "outputs": [
    {
     "name": "stdout",
     "output_type": "stream",
     "text": [
      "<class 'dict'>\n"
     ]
    }
   ],
   "source": [
    "d = {'f' : 't'}\n",
    "print(type(d))"
   ]
  },
  {
   "cell_type": "code",
   "execution_count": 5,
   "id": "c432440e",
   "metadata": {},
   "outputs": [
    {
     "data": {
      "text/plain": [
       "{'f': 't'}"
      ]
     },
     "execution_count": 5,
     "metadata": {},
     "output_type": "execute_result"
    }
   ],
   "source": [
    "d"
   ]
  },
  {
   "cell_type": "code",
   "execution_count": null,
   "id": "ff1c6c2f",
   "metadata": {},
   "outputs": [],
   "source": [
    "#list_of_student = ['1','2','3'] and roll= [\"a\",\"b\",\"c\"]"
   ]
  },
  {
   "cell_type": "code",
   "execution_count": 26,
   "id": "bba1dd79",
   "metadata": {},
   "outputs": [
    {
     "data": {
      "text/plain": [
       "{'a': [1, 20], 'b': 2, 'c': 3, 'd': 20}"
      ]
     },
     "execution_count": 26,
     "metadata": {},
     "output_type": "execute_result"
    }
   ],
   "source": [
    "# create a dictionary with keys and values \n",
    "classroom = {\n",
    "    'a' : [1,20],\n",
    "    'b' : 2,\n",
    "    'c' : 3,\n",
    "    'd' : 20\n",
    "}\n",
    "classroom"
   ]
  },
  {
   "cell_type": "code",
   "execution_count": 9,
   "id": "a82a3f7f",
   "metadata": {},
   "outputs": [
    {
     "data": {
      "text/plain": [
       "{'a': 100, 'b': 2, 'c': 3}"
      ]
     },
     "execution_count": 9,
     "metadata": {},
     "output_type": "execute_result"
    }
   ],
   "source": [
    "classroom = {\n",
    "    'a' : [1,20],\n",
    "    'b' : 2,\n",
    "    'c' : 3,\n",
    "    'a' : 100 #though it is working with updated value\n",
    "}\n",
    "classroom"
   ]
  },
  {
   "cell_type": "code",
   "execution_count": 10,
   "id": "9529a69e",
   "metadata": {},
   "outputs": [
    {
     "data": {
      "text/plain": [
       "dict_keys(['a', 'b', 'c'])"
      ]
     },
     "execution_count": 10,
     "metadata": {},
     "output_type": "execute_result"
    }
   ],
   "source": [
    "classroom.keys() # identify the keys of a dictionary "
   ]
  },
  {
   "cell_type": "code",
   "execution_count": 11,
   "id": "1051ce2d",
   "metadata": {},
   "outputs": [
    {
     "data": {
      "text/plain": [
       "dict_values([100, 2, 3])"
      ]
     },
     "execution_count": 11,
     "metadata": {},
     "output_type": "execute_result"
    }
   ],
   "source": [
    "classroom.values() # identify the values of a dictionary "
   ]
  },
  {
   "cell_type": "code",
   "execution_count": 12,
   "id": "08b64ceb",
   "metadata": {},
   "outputs": [
    {
     "data": {
      "text/plain": [
       "dict_items([('a', 100), ('b', 2), ('c', 3)])"
      ]
     },
     "execution_count": 12,
     "metadata": {},
     "output_type": "execute_result"
    }
   ],
   "source": [
    "classroom.items() #having keys with with values "
   ]
  },
  {
   "cell_type": "code",
   "execution_count": 13,
   "id": "e92ddfc1",
   "metadata": {},
   "outputs": [],
   "source": [
    " #new value add to dic \n",
    "classroom['d'] =22 "
   ]
  },
  {
   "cell_type": "code",
   "execution_count": 14,
   "id": "e918f29b",
   "metadata": {},
   "outputs": [
    {
     "data": {
      "text/plain": [
       "{'a': 100, 'b': 2, 'c': 3, 'd': 22}"
      ]
     },
     "execution_count": 14,
     "metadata": {},
     "output_type": "execute_result"
    }
   ],
   "source": [
    "classroom"
   ]
  },
  {
   "cell_type": "code",
   "execution_count": 15,
   "id": "13a29400",
   "metadata": {},
   "outputs": [],
   "source": [
    "classroom['e'] =[44,56]"
   ]
  },
  {
   "cell_type": "code",
   "execution_count": 16,
   "id": "a2f402e5",
   "metadata": {},
   "outputs": [
    {
     "data": {
      "text/plain": [
       "{'a': 100, 'b': 2, 'c': 3, 'd': 22, 'e': [44, 56]}"
      ]
     },
     "execution_count": 16,
     "metadata": {},
     "output_type": "execute_result"
    }
   ],
   "source": [
    "classroom"
   ]
  },
  {
   "cell_type": "code",
   "execution_count": 17,
   "id": "3fa64c5c",
   "metadata": {},
   "outputs": [],
   "source": [
    "del classroom['a']"
   ]
  },
  {
   "cell_type": "code",
   "execution_count": 18,
   "id": "9f1c81bf",
   "metadata": {},
   "outputs": [
    {
     "data": {
      "text/plain": [
       "{'b': 2, 'c': 3, 'd': 22, 'e': [44, 56]}"
      ]
     },
     "execution_count": 18,
     "metadata": {},
     "output_type": "execute_result"
    }
   ],
   "source": [
    "classroom"
   ]
  },
  {
   "cell_type": "code",
   "execution_count": 19,
   "id": "1b796cf5",
   "metadata": {},
   "outputs": [],
   "source": [
    "classroom ['c'] = 10 # update value "
   ]
  },
  {
   "cell_type": "code",
   "execution_count": 20,
   "id": "ed8ed2e1",
   "metadata": {},
   "outputs": [
    {
     "data": {
      "text/plain": [
       "{'b': 2, 'c': 10, 'd': 22, 'e': [44, 56]}"
      ]
     },
     "execution_count": 20,
     "metadata": {},
     "output_type": "execute_result"
    }
   ],
   "source": [
    "classroom"
   ]
  },
  {
   "cell_type": "code",
   "execution_count": 21,
   "id": "76ed595d",
   "metadata": {},
   "outputs": [],
   "source": [
    "new_student = {'j': 12, \"k\": 13} # add new dictionary "
   ]
  },
  {
   "cell_type": "code",
   "execution_count": 22,
   "id": "39010487",
   "metadata": {},
   "outputs": [],
   "source": [
    "classroom.update(new_student)"
   ]
  },
  {
   "cell_type": "code",
   "execution_count": 23,
   "id": "f8a23522",
   "metadata": {},
   "outputs": [
    {
     "data": {
      "text/plain": [
       "{'b': 2, 'c': 10, 'd': 22, 'e': [44, 56], 'j': 12, 'k': 13}"
      ]
     },
     "execution_count": 23,
     "metadata": {},
     "output_type": "execute_result"
    }
   ],
   "source": [
    "classroom"
   ]
  },
  {
   "cell_type": "markdown",
   "id": "ad1ba2c6",
   "metadata": {},
   "source": [
    "# conditional statement "
   ]
  },
  {
   "cell_type": "code",
   "execution_count": 27,
   "id": "0b879be4",
   "metadata": {},
   "outputs": [
    {
     "data": {
      "text/plain": [
       "False"
      ]
     },
     "execution_count": 27,
     "metadata": {},
     "output_type": "execute_result"
    }
   ],
   "source": [
    "a = 3\n",
    "b = 5 \n",
    "\n",
    "a > b"
   ]
  },
  {
   "cell_type": "code",
   "execution_count": 32,
   "id": "2121516e",
   "metadata": {},
   "outputs": [
    {
     "name": "stdout",
     "output_type": "stream",
     "text": [
      "b is bigger\n"
     ]
    }
   ],
   "source": [
    "if a > b:\n",
    "    print('a is bigger than b')\n",
    "if b > a:\n",
    "    print('b is bigger')\n",
    "if a == b:\n",
    "    print('print a is equal to b ')"
   ]
  },
  {
   "cell_type": "code",
   "execution_count": 34,
   "id": "afdaa7a3",
   "metadata": {},
   "outputs": [
    {
     "name": "stdout",
     "output_type": "stream",
     "text": [
      "a is 3\n"
     ]
    }
   ],
   "source": [
    "if a == 4:\n",
    "    print(\"a is 4\")\n",
    "elif a==3:\n",
    "    print('a is 3')"
   ]
  },
  {
   "cell_type": "markdown",
   "id": "d6a2f466",
   "metadata": {},
   "source": [
    "# loop structure "
   ]
  },
  {
   "cell_type": "code",
   "execution_count": 35,
   "id": "28db483d",
   "metadata": {},
   "outputs": [],
   "source": [
    "#if\n",
    "#elif\n",
    "#else"
   ]
  },
  {
   "cell_type": "code",
   "execution_count": null,
   "id": "39d92f36",
   "metadata": {},
   "outputs": [],
   "source": [
    "restaurant a and b\n",
    "condintion for restaurnat age 21 and 2 covid_vac \n",
    "for b restaurant age 21 and covid_vac 1"
   ]
  },
  {
   "cell_type": "code",
   "execution_count": 43,
   "id": "82392e33",
   "metadata": {},
   "outputs": [
    {
     "name": "stdout",
     "output_type": "stream",
     "text": [
      "restaurant B\n"
     ]
    }
   ],
   "source": [
    "#using fixed variable \n",
    "age = 21\n",
    "covid_vac = 1\n",
    "if age == 21 and  covid_vac == 2:\n",
    "    print(\"restaurant a \")\n",
    "if age == 21 and  covid_vac ==1:\n",
    "    print('restaurant B')"
   ]
  },
  {
   "cell_type": "code",
   "execution_count": 46,
   "id": "38a7ca47",
   "metadata": {},
   "outputs": [
    {
     "name": "stdout",
     "output_type": "stream",
     "text": [
      "21\n",
      "6\n",
      "not allowed \n"
     ]
    }
   ],
   "source": [
    "##using user input   \n",
    "age = int(input(\"write down your age!!!\"))\n",
    "covid_vac = int(input(\"write down the vacine amount!!!\"))\n",
    "if age == 21 and  covid_vac == 2:\n",
    "    print(\"restaurant a \")\n",
    "if age == 21 and  covid_vac ==1:\n",
    "    print('restaurant B')\n",
    "else:\n",
    "    print('not allowed ')"
   ]
  },
  {
   "cell_type": "code",
   "execution_count": null,
   "id": "69863b54",
   "metadata": {},
   "outputs": [],
   "source": []
  }
 ],
 "metadata": {
  "kernelspec": {
   "display_name": "Python 3 (ipykernel)",
   "language": "python",
   "name": "python3"
  },
  "language_info": {
   "codemirror_mode": {
    "name": "ipython",
    "version": 3
   },
   "file_extension": ".py",
   "mimetype": "text/x-python",
   "name": "python",
   "nbconvert_exporter": "python",
   "pygments_lexer": "ipython3",
   "version": "3.9.12"
  }
 },
 "nbformat": 4,
 "nbformat_minor": 5
}
