{
 "cells": [
  {
   "cell_type": "code",
   "execution_count": 1,
   "id": "da24ba67",
   "metadata": {},
   "outputs": [
    {
     "data": {
      "text/plain": [
       "[2, 4, 6, 64, 10]"
      ]
     },
     "execution_count": 1,
     "metadata": {},
     "output_type": "execute_result"
    }
   ],
   "source": [
    "li = [2,4,6,8,10]\n",
    "li[3] = li[3]**2\n",
    "li"
   ]
  },
  {
   "cell_type": "code",
   "execution_count": 2,
   "id": "9e2a3336",
   "metadata": {},
   "outputs": [
    {
     "name": "stdout",
     "output_type": "stream",
     "text": [
      "square od the value is ---! 100\n"
     ]
    }
   ],
   "source": [
    "#square of the selected value in a list by index wise\n",
    "for i in range (len(li)):\n",
    "    \n",
    "    if li[i]== li[4]:\n",
    "        print(\"square od the value is ---!\", li[i]**2)"
   ]
  },
  {
   "cell_type": "code",
   "execution_count": 3,
   "id": "7b87e459",
   "metadata": {},
   "outputs": [
    {
     "name": "stdout",
     "output_type": "stream",
     "text": [
      "The square cube of the given index is:----! 1331\n"
     ]
    }
   ],
   "source": [
    "#square cube of the selected value in a list by index wise\n",
    "lis = [1,3,5,7,9,11,13]\n",
    "for i in range (len(lis)):\n",
    "    if lis[i] == lis[5]:\n",
    "        print(\"The square cube of the given index is:----!\" , lis[i]**3)"
   ]
  },
  {
   "cell_type": "code",
   "execution_count": 4,
   "id": "4125f755",
   "metadata": {},
   "outputs": [
    {
     "data": {
      "text/plain": [
       "[1, 3, 5, 7, 9, 11, 13]"
      ]
     },
     "execution_count": 4,
     "metadata": {},
     "output_type": "execute_result"
    }
   ],
   "source": [
    "lis"
   ]
  },
  {
   "cell_type": "code",
   "execution_count": 5,
   "id": "0823f4aa",
   "metadata": {},
   "outputs": [
    {
     "name": "stdout",
     "output_type": "stream",
     "text": [
      "square of all value in a given list 1\n",
      "square of all value in a given list 9\n",
      "square of all value in a given list 25\n",
      "square of all value in a given list 49\n",
      "square of all value in a given list 81\n",
      "square of all value in a given list 121\n",
      "square of all value in a given list 169\n"
     ]
    }
   ],
   "source": [
    "# using loop to square all the list elements \n",
    "for x in range (len(lis)):\n",
    "    print(\"square of all value in a given list\", lis[x]**2)"
   ]
  },
  {
   "cell_type": "code",
   "execution_count": 6,
   "id": "75f0ca1c",
   "metadata": {},
   "outputs": [
    {
     "data": {
      "text/plain": [
       "[2, 4, 6, 64, 10]"
      ]
     },
     "execution_count": 6,
     "metadata": {},
     "output_type": "execute_result"
    }
   ],
   "source": [
    "li"
   ]
  },
  {
   "cell_type": "code",
   "execution_count": 7,
   "id": "59523ca0",
   "metadata": {},
   "outputs": [
    {
     "name": "stdout",
     "output_type": "stream",
     "text": [
      "square of all value in a given list 4\n",
      "square of all value in a given list 16\n",
      "square of all value in a given list 36\n",
      "square of all value in a given list 4096\n",
      "square of all value in a given list 100\n"
     ]
    }
   ],
   "source": [
    "# using loop to square all the list elements wirh store it in a new list\n",
    "\n",
    "li2 = []\n",
    "for x in range (len(li)):\n",
    "    print(\"square of all value in a given list\", li[x]**2)\n",
    "    li2.append(li[x]**2)"
   ]
  },
  {
   "cell_type": "code",
   "execution_count": 8,
   "id": "5d83999e",
   "metadata": {},
   "outputs": [
    {
     "data": {
      "text/plain": [
       "[4, 16, 36, 4096, 100]"
      ]
     },
     "execution_count": 8,
     "metadata": {},
     "output_type": "execute_result"
    }
   ],
   "source": [
    "li2"
   ]
  },
  {
   "cell_type": "code",
   "execution_count": 9,
   "id": "0e4bc735",
   "metadata": {},
   "outputs": [],
   "source": [
    "# using list comprehension \n",
    "li3= [5,4,5,4,9,4,7]\n",
    "for i in li3:\n",
    "    li3[li3.index(i)] = li3[li3.index(i)]**2"
   ]
  },
  {
   "cell_type": "code",
   "execution_count": 10,
   "id": "257b35a2",
   "metadata": {},
   "outputs": [
    {
     "data": {
      "text/plain": [
       "[25, 16, 25, 16, 81, 16, 49]"
      ]
     },
     "execution_count": 10,
     "metadata": {},
     "output_type": "execute_result"
    }
   ],
   "source": [
    "li3"
   ]
  },
  {
   "cell_type": "code",
   "execution_count": 11,
   "id": "477618f7",
   "metadata": {},
   "outputs": [],
   "source": [
    "# using list comprehension \n",
    "li3= [5,4,5,4,9,4,7]\n",
    "lis4 = list(x**3 for x in li3)\n",
    "   "
   ]
  },
  {
   "cell_type": "code",
   "execution_count": 12,
   "id": "ffba9c97",
   "metadata": {},
   "outputs": [
    {
     "data": {
      "text/plain": [
       "[125, 64, 125, 64, 729, 64, 343]"
      ]
     },
     "execution_count": 12,
     "metadata": {},
     "output_type": "execute_result"
    }
   ],
   "source": [
    "lis4"
   ]
  },
  {
   "cell_type": "code",
   "execution_count": 13,
   "id": "2da1c141",
   "metadata": {},
   "outputs": [
    {
     "name": "stdout",
     "output_type": "stream",
     "text": [
      "the index 0 is represent the value 1\n",
      "the index 1 is represent the value 5\n",
      "the index 2 is represent the value 6\n",
      "the index 3 is represent the value 5\n",
      "the index 4 is represent the value 4\n",
      "the index 5 is represent the value 6\n",
      "the index 6 is represent the value 4\n"
     ]
    }
   ],
   "source": [
    "li5 = [1,5,6,5,4,6,4]\n",
    "for x,values in enumerate(li5):\n",
    "  print(f'the index {x} is represent the value {values}')\n"
   ]
  },
  {
   "cell_type": "code",
   "execution_count": 14,
   "id": "a24d43ec",
   "metadata": {},
   "outputs": [
    {
     "name": "stdout",
     "output_type": "stream",
     "text": [
      "1 0\n",
      "4 1\n",
      "8 2\n",
      "4 3\n",
      "48 4\n",
      "4 5\n",
      "6 6\n",
      "4 7\n",
      "56 8\n"
     ]
    }
   ],
   "source": [
    "list1 =[1,4,8,4,48,4,6,4,56]\n",
    "for index in range (len(list1)):\n",
    "    print(list1[index],index)\n",
    "    "
   ]
  },
  {
   "cell_type": "code",
   "execution_count": 15,
   "id": "67808bac",
   "metadata": {},
   "outputs": [],
   "source": [
    "# identify the even number \n",
    "list4 = [6,8,7,4,9,8,7,8,7,7,4,4,1,3,4,1,6,5,7,9]"
   ]
  },
  {
   "cell_type": "code",
   "execution_count": 16,
   "id": "f0703399",
   "metadata": {},
   "outputs": [
    {
     "name": "stdout",
     "output_type": "stream",
     "text": [
      "the even number  36\n",
      "the even number  64\n",
      "the odd number  9\n",
      "the even number  16\n",
      "the odd number  11\n",
      "the even number  64\n",
      "the odd number  9\n",
      "the even number  64\n",
      "the odd number  9\n",
      "the odd number  9\n",
      "the even number  16\n",
      "the even number  16\n",
      "the odd number  3\n",
      "the odd number  5\n",
      "the even number  16\n",
      "the odd number  3\n",
      "the even number  36\n",
      "the odd number  7\n",
      "the odd number  9\n",
      "the odd number  11\n"
     ]
    }
   ],
   "source": [
    "for i in  (list4):\n",
    "    if i%2 == 0:\n",
    "        #print (i)\n",
    "        print('the even number ',i**2)\n",
    "    else:\n",
    "        print(\"the odd number \", i+2)\n",
    "        \n",
    "        \n"
   ]
  },
  {
   "cell_type": "code",
   "execution_count": 17,
   "id": "fd84c323",
   "metadata": {},
   "outputs": [
    {
     "data": {
      "text/plain": [
       "[6, 8, 7, 4, 9, 8, 7, 8, 7, 7, 4, 4, 1, 3, 4, 1, 6, 5, 7, 9]"
      ]
     },
     "execution_count": 17,
     "metadata": {},
     "output_type": "execute_result"
    }
   ],
   "source": [
    "# index based even odd\n",
    "list4 \n",
    "        "
   ]
  },
  {
   "cell_type": "code",
   "execution_count": 18,
   "id": "d115aae8",
   "metadata": {},
   "outputs": [
    {
     "name": "stdout",
     "output_type": "stream",
     "text": [
      "the even number  36\n",
      "the odd number  10\n",
      "the even number  49\n",
      "the odd number  6\n",
      "the even number  81\n",
      "the odd number  10\n",
      "the even number  49\n",
      "the odd number  10\n",
      "the even number  49\n",
      "the even number  49\n",
      "the odd number  6\n",
      "the odd number  6\n",
      "the even number  1\n",
      "the odd number  5\n",
      "the odd number  6\n",
      "the even number  1\n",
      "the even number  36\n",
      "the odd number  7\n",
      "the even number  49\n",
      "the even number  81\n"
     ]
    }
   ],
   "source": [
    "for element in list4:\n",
    "    if list4.index(element) % 2 ==0:\n",
    "        print('the even number ',element**2)\n",
    "    else:\n",
    "        print(\"the odd number \", element+2)\n",
    "        \n",
    "        "
   ]
  },
  {
   "cell_type": "code",
   "execution_count": 19,
   "id": "a9cc225f",
   "metadata": {},
   "outputs": [
    {
     "name": "stdout",
     "output_type": "stream",
     "text": [
      "7\n",
      "8\n",
      "8\n",
      "5\n",
      "8\n",
      "4\n",
      "the total number is  40\n"
     ]
    }
   ],
   "source": [
    "# sum of the given list element \n",
    "new_lis = [7,8,8,5,8,4]\n",
    "sum = 0\n",
    "for i in new_lis:\n",
    "    print (i)\n",
    "    sum +=i\n",
    "print(\"the total number is \",sum )"
   ]
  },
  {
   "cell_type": "code",
   "execution_count": 20,
   "id": "59132d9a",
   "metadata": {},
   "outputs": [
    {
     "data": {
      "text/plain": [
       "[7, 8, 8, 5, 8, 4]"
      ]
     },
     "execution_count": 20,
     "metadata": {},
     "output_type": "execute_result"
    }
   ],
   "source": [
    "new_lis"
   ]
  },
  {
   "cell_type": "markdown",
   "id": "77cee0bd",
   "metadata": {},
   "source": [
    "for i in new_lis:\n",
    "    if i%2==0:\n",
    "        print(i)\n",
    "    "
   ]
  },
  {
   "cell_type": "code",
   "execution_count": 21,
   "id": "c11f834d",
   "metadata": {},
   "outputs": [
    {
     "name": "stdout",
     "output_type": "stream",
     "text": [
      "even 1\n",
      "odd 6\n",
      "even 36\n",
      "odd 7\n",
      "even 49\n",
      "odd 11\n",
      "even 64\n",
      "odd 6\n",
      "even 100\n"
     ]
    }
   ],
   "source": [
    "list3 = [1,4,6,5,7,9,8,4,10]\n",
    "for index in range(len(list3)):\n",
    "    element = list3[index]\n",
    "    if index % 2== 0:\n",
    "        print('even', element**2)\n",
    "    elif index % 2 != 0:\n",
    "        print('odd', element + 2)"
   ]
  },
  {
   "cell_type": "markdown",
   "id": "b3ec4366",
   "metadata": {},
   "source": [
    "# factorial "
   ]
  },
  {
   "cell_type": "code",
   "execution_count": 22,
   "id": "53d5a3d6",
   "metadata": {},
   "outputs": [
    {
     "name": "stdout",
     "output_type": "stream",
     "text": [
      "1\n",
      "2\n",
      "3\n",
      "4\n",
      "5\n",
      "6\n",
      "7\n",
      "5040\n"
     ]
    }
   ],
   "source": [
    "# any number \n",
    "\n",
    "x = 7\n",
    "fac = 1\n",
    "for i  in range(1, x+1):\n",
    "    print(i)\n",
    "    fac = fac*i\n",
    "print(fac)\n"
   ]
  },
  {
   "cell_type": "code",
   "execution_count": 23,
   "id": "946cd7d9",
   "metadata": {},
   "outputs": [
    {
     "name": "stdout",
     "output_type": "stream",
     "text": [
      "non prime\n",
      "3\n",
      "non prime\n",
      "5\n"
     ]
    }
   ],
   "source": [
    "n = 15\n",
    "for factor in range(2,n):\n",
    "    if n%factor ==0:\n",
    "        print(\"non prime\")\n",
    "        print(factor)"
   ]
  },
  {
   "cell_type": "code",
   "execution_count": 24,
   "id": "bf9eca57",
   "metadata": {},
   "outputs": [
    {
     "name": "stdout",
     "output_type": "stream",
     "text": [
      "non prime\n",
      "2\n"
     ]
    },
    {
     "data": {
      "text/plain": [
       "'prime'"
      ]
     },
     "execution_count": 24,
     "metadata": {},
     "output_type": "execute_result"
    }
   ],
   "source": [
    "n = 16000\n",
    "assume = 'prime'\n",
    "for factor in range(2,n):\n",
    "    if n%factor ==0:\n",
    "        print(\"non prime\")\n",
    "        print(factor)\n",
    "        break\n",
    "assume"
   ]
  },
  {
   "cell_type": "code",
   "execution_count": 33,
   "id": "3d741d96",
   "metadata": {},
   "outputs": [
    {
     "name": "stdout",
     "output_type": "stream",
     "text": [
      "non prime\n",
      "non prime\n"
     ]
    }
   ],
   "source": [
    "n = 10\n",
    "assume = 'prime'\n",
    "if n==1:\n",
    "    print('non prime')\n",
    "\n",
    "else:\n",
    "    for factor in range(2,n):\n",
    "        if n % factor == 0:\n",
    "            print(\"non prime\")\n",
    "           \n",
    "   "
   ]
  },
  {
   "cell_type": "code",
   "execution_count": null,
   "id": "99689e35",
   "metadata": {},
   "outputs": [],
   "source": []
  }
 ],
 "metadata": {
  "kernelspec": {
   "display_name": "Python 3 (ipykernel)",
   "language": "python",
   "name": "python3"
  },
  "language_info": {
   "codemirror_mode": {
    "name": "ipython",
    "version": 3
   },
   "file_extension": ".py",
   "mimetype": "text/x-python",
   "name": "python",
   "nbconvert_exporter": "python",
   "pygments_lexer": "ipython3",
   "version": "3.9.12"
  }
 },
 "nbformat": 4,
 "nbformat_minor": 5
}
